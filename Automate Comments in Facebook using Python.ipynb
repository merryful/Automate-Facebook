{
 "cells": [
  {
   "cell_type": "markdown",
   "id": "19a80210",
   "metadata": {},
   "source": [
    "# Automate comments in Facebook using Python"
   ]
  },
  {
   "cell_type": "code",
   "execution_count": 9,
   "id": "0cf596e6",
   "metadata": {},
   "outputs": [],
   "source": [
    "# !pip install facebook-sdk\n",
    "import facebook as fb"
   ]
  },
  {
   "cell_type": "code",
   "execution_count": 136,
   "id": "104551b8",
   "metadata": {},
   "outputs": [],
   "source": [
    "# Get Access token\n",
    "access_token = \"EAAM3nbZC9bQoBAKZB205LuV9vzGZAJnW0BOl9O5NSv0CZB0rZBZCxgXWiN4bcMZCXs97S5XeupkpDgd6vIZBAOfGXxi0fgYOOeMxsonMiAofqMPMML591ZBeQ96Njvqnyjvergf4S0uVCw9pZCYhWexEAZACbu4ab1rjNKBZApBUlkDUcpYXkzYJpgq6MtYEiX3YHrAIpSKNr3xVCgZDZD\""
   ]
  },
  {
   "cell_type": "code",
   "execution_count": 137,
   "id": "4248b14f",
   "metadata": {},
   "outputs": [],
   "source": [
    "# Create an instance of the 'Graph API' class\n",
    "graph = fb.GraphAPI(access_token)"
   ]
  },
  {
   "cell_type": "code",
   "execution_count": 138,
   "id": "f26284ef",
   "metadata": {},
   "outputs": [
    {
     "data": {
      "text/plain": [
       "{'id': '103134307795966_220715926996527'}"
      ]
     },
     "execution_count": 138,
     "metadata": {},
     "output_type": "execute_result"
    }
   ],
   "source": [
    "# Post a message in facebook post\n",
    "graph.put_object(\"me\", \"feed\", message = \"Birthday celebration going to Japan !\")"
   ]
  },
  {
   "cell_type": "code",
   "execution_count": 139,
   "id": "50ec5a6e",
   "metadata": {},
   "outputs": [],
   "source": [
    "# Set post ID\n",
    "post_id = \"103134307795966_220715926996527\""
   ]
  },
  {
   "cell_type": "code",
   "execution_count": 140,
   "id": "e405125a",
   "metadata": {},
   "outputs": [
    {
     "name": "stdout",
     "output_type": "stream",
     "text": [
      "{'data': [{'created_time': '2023-02-27T18:21:37+0000', 'from': {'name': 'Merry Nguyen', 'id': '5892449684135978'}, 'message': 'Happy Birthday 🎁🎂🎊', 'id': '220715926996527_241966288170893'}, {'created_time': '2023-02-27T18:21:46+0000', 'from': {'name': 'Merry Nguyen', 'id': '5892449684135978'}, 'message': 'Happy Birthday !', 'id': '220715926996527_220483163889929'}, {'created_time': '2023-02-27T18:21:48+0000', 'from': {'name': 'Merry Nguyen', 'id': '5892449684135978'}, 'message': 'Happy Birthday !', 'id': '220715926996527_743001777536914'}, {'created_time': '2023-02-27T18:21:56+0000', 'from': {'name': 'Merry Nguyen', 'id': '5892449684135978'}, 'message': 'Happy Birthday !', 'id': '220715926996527_734320191400987'}], 'paging': {'cursors': {'before': 'WTI5dGJXVnVkRjlqZAFhKemIzSTZANalF4T1RZAMk1qZAzRNVGN3T0Rrek9qRTJOemMxTWpJd09UYz0ZD', 'after': 'WTI5dGJXVnVkRjlqZAFhKemIzSTZAOek0wTXpJd01Ua3hOREF3T1RnM09qRTJOemMxTWpJeE1UWT0ZD'}}}\n"
     ]
    }
   ],
   "source": [
    "# Get the contents of the comments\n",
    "comments = graph.get_connections(post_id, \"comments\")\n",
    "print(comments)"
   ]
  },
  {
   "cell_type": "code",
   "execution_count": 141,
   "id": "ed59aeaa",
   "metadata": {},
   "outputs": [],
   "source": [
    "# Loop through the comments and post a comment on each one      \n",
    "for comment in comments['data']:\n",
    "    # Get the comment ID\n",
    "    comment_id = comment['id']\n",
    "    # Get the contents of the comment_id\n",
    "    comment_check = graph.get_connections(comment_id, \"comments\")\n",
    "    \n",
    "    thanked = False\n",
    "    \n",
    "    # Check if the comment already has a \"thank you\" message\n",
    "    for post in comment_check['data']:\n",
    "        if 'message' in post and 'thank you' in post['message'].lower():\n",
    "            thanked = True\n",
    "            break\n",
    "    # If the comment doesnt have a \"thank you\" message, add one             \n",
    "    if not thanked:\n",
    "        graph.put_object(comment_id, \"comments\", message = 'Thank You !')"
   ]
  }
 ],
 "metadata": {
  "kernelspec": {
   "display_name": "Python 3 (ipykernel)",
   "language": "python",
   "name": "python3"
  },
  "language_info": {
   "codemirror_mode": {
    "name": "ipython",
    "version": 3
   },
   "file_extension": ".py",
   "mimetype": "text/x-python",
   "name": "python",
   "nbconvert_exporter": "python",
   "pygments_lexer": "ipython3",
   "version": "3.9.13"
  }
 },
 "nbformat": 4,
 "nbformat_minor": 5
}
