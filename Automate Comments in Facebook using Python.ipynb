{
 "cells": [
  {
   "cell_type": "markdown",
   "id": "b1a9fad5",
   "metadata": {},
   "source": [
    "# Automate comments in Facebook using Python"
   ]
  },
  {
   "cell_type": "markdown",
   "id": "3f250d47",
   "metadata": {},
   "source": [
    "I was on facetime with my sister one day, she had mentioned that she just posted an annoucement on her facebook page saying that she was pregnant. I'm sure she had over 50 comments under that post congrautaling her. She then told me she was going to have to take some time to reply to everyone and I thought, don't you wish there was a way to respond Thank You to everyone without having to click every comment?"
   ]
  },
  {
   "cell_type": "markdown",
   "id": "34b7958c",
   "metadata": {},
   "source": [
    "The downside to this is that it only works if you have a facebook business page. Nonetheless facebook's API was fun to experiment with"
   ]
  },
  {
   "cell_type": "markdown",
   "id": "bb86ed26",
   "metadata": {},
   "source": [
    "We'll be using Facebook Graph API to get data into and out of Facebook platform.\n",
    "Here's a link to the documentaion on how to get started with Graph API: https://developers.facebook.com/docs/graph-api/get-started"
   ]
  },
  {
   "cell_type": "markdown",
   "id": "19ccdbfc",
   "metadata": {},
   "source": [
    "In your terminal make sure you $pip install facebook-sdk"
   ]
  },
  {
   "cell_type": "code",
   "execution_count": 9,
   "id": "4c08fa38",
   "metadata": {},
   "outputs": [],
   "source": [
    "#!pip install facebook-sdk\n",
    "import facebook as fb"
   ]
  },
  {
   "cell_type": "code",
   "execution_count": 136,
   "id": "76d0f391",
   "metadata": {},
   "outputs": [],
   "source": [
    "# Get Access token\n",
    "access_token = \"EAAM3nbZC9bQoBAKZB205LuV9vzGZAJnW0BOl9O5NSv0CZB0rZBZCxgXWiN4bcMZCXs97S5XeupkpDgd6vIZBAOfGXxi0fgYOOeMxsonMiAofqMPMML591ZBeQ96Njvqnyjvergf4S0uVCw9pZCYhWexEAZACbu4ab1rjNKBZApBUlkDUcpYXkzYJpgq6MtYEiX3YHrAIpSKNr3xVCgZDZD\""
   ]
  },
  {
   "cell_type": "code",
   "execution_count": 137,
   "id": "362fd437",
   "metadata": {},
   "outputs": [],
   "source": [
    "# Create an instance of the 'Graph API' class\n",
    "graph = fb.GraphAPI(access_token)"
   ]
  },
  {
   "cell_type": "markdown",
   "id": "a0292902",
   "metadata": {},
   "source": [
    "Here's a link to Facebook's Graph API documentation that contains classes, methods and functions: https://facebook-sdk.readthedocs.io/en/latest/api.html\n",
    "This helps determine which methods we want to use to create a Facebook post and posting comments. "
   ]
  },
  {
   "cell_type": "code",
   "execution_count": 138,
   "id": "8fd0b7d4",
   "metadata": {},
   "outputs": [
    {
     "data": {
      "text/plain": [
       "{'id': '103134307795966_220715926996527'}"
      ]
     },
     "execution_count": 138,
     "metadata": {},
     "output_type": "execute_result"
    }
   ],
   "source": [
    "# Post a message in facebook post\n",
    "graph.put_object(\"me\", \"feed\", message = \"Birthday celebration going to Japan !\")"
   ]
  },
  {
   "cell_type": "code",
   "execution_count": 139,
   "id": "6bc77182",
   "metadata": {},
   "outputs": [],
   "source": [
    "# Set post ID\n",
    "post_id = \"103134307795966_220715926996527\""
   ]
  },
  {
   "cell_type": "code",
   "execution_count": 140,
   "id": "da92cb2e",
   "metadata": {},
   "outputs": [
    {
     "name": "stdout",
     "output_type": "stream",
     "text": [
      "{'data': [{'created_time': '2023-02-27T18:21:37+0000', 'from': {'name': 'Merry Nguyen', 'id': '5892449684135978'}, 'message': 'Happy Birthday 🎁🎂🎊', 'id': '220715926996527_241966288170893'}, {'created_time': '2023-02-27T18:21:46+0000', 'from': {'name': 'Merry Nguyen', 'id': '5892449684135978'}, 'message': 'Happy Birthday !', 'id': '220715926996527_220483163889929'}, {'created_time': '2023-02-27T18:21:48+0000', 'from': {'name': 'Merry Nguyen', 'id': '5892449684135978'}, 'message': 'Happy Birthday !', 'id': '220715926996527_743001777536914'}, {'created_time': '2023-02-27T18:21:56+0000', 'from': {'name': 'Merry Nguyen', 'id': '5892449684135978'}, 'message': 'Happy Birthday !', 'id': '220715926996527_734320191400987'}], 'paging': {'cursors': {'before': 'WTI5dGJXVnVkRjlqZAFhKemIzSTZANalF4T1RZAMk1qZAzRNVGN3T0Rrek9qRTJOemMxTWpJd09UYz0ZD', 'after': 'WTI5dGJXVnVkRjlqZAFhKemIzSTZAOek0wTXpJd01Ua3hOREF3T1RnM09qRTJOemMxTWpJeE1UWT0ZD'}}}\n"
     ]
    }
   ],
   "source": [
    "# Get the contents of the comments\n",
    "comments = graph.get_connections(post_id, \"comments\")\n",
    "print(comments)"
   ]
  },
  {
   "cell_type": "markdown",
   "id": "a797fe66",
   "metadata": {},
   "source": [
    "Each person that posted a comment has a unique ID which we will grab to post a thank you response each comment"
   ]
  },
  {
   "cell_type": "code",
   "execution_count": 141,
   "id": "2dd01ae0",
   "metadata": {},
   "outputs": [],
   "source": [
    "# Loop through the comments and post a comment on each one      \n",
    "for comment in comments['data']:\n",
    "    # Get the comment ID\n",
    "    comment_id = comment['id']\n",
    "    # Get the contents of the comment_id\n",
    "    comment_check = graph.get_connections(comment_id, \"comments\")\n",
    "    \n",
    "    thanked = False\n",
    "    \n",
    "    # Check if the comment already has a \"thank you\" message\n",
    "    for post in comment_check['data']:\n",
    "        if 'message' in post and 'thank you' in post['message'].lower():\n",
    "            thanked = True\n",
    "            break\n",
    "    # If the comment doesnt have a \"thank you\" message, add one             \n",
    "    if not thanked:\n",
    "        graph.put_object(comment_id, \"comments\", message = 'Thank You !')"
   ]
  }
 ],
 "metadata": {
  "kernelspec": {
   "display_name": "Python 3 (ipykernel)",
   "language": "python",
   "name": "python3"
  },
  "language_info": {
   "codemirror_mode": {
    "name": "ipython",
    "version": 3
   },
   "file_extension": ".py",
   "mimetype": "text/x-python",
   "name": "python",
   "nbconvert_exporter": "python",
   "pygments_lexer": "ipython3",
   "version": "3.9.13"
  }
 },
 "nbformat": 4,
 "nbformat_minor": 5
}
